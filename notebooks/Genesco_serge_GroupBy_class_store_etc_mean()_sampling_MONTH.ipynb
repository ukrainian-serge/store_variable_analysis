{
 "cells": [
  {
   "cell_type": "code",
   "execution_count": 28,
   "metadata": {},
   "outputs": [
    {
     "data": {
      "text/html": [
       "<style>\n",
       ".output {\n",
       "    flex-direction: row;\n",
       "}\n",
       "</style>"
      ],
      "text/plain": [
       "<IPython.core.display.HTML object>"
      ]
     },
     "execution_count": 28,
     "metadata": {},
     "output_type": "execute_result"
    }
   ],
   "source": [
    "import pandas as pd\n",
    "import matplotlib.pyplot as plt\n",
    "import numpy as np\n",
    "import IPython\n",
    "from IPython.display import display, HTML\n",
    "from IPython.core.interactiveshell import InteractiveShell\n",
    "\n",
    "InteractiveShell.ast_node_interactivity = \"all\"\n",
    "CSS = \"\"\"\n",
    ".output {\n",
    "    flex-direction: row;\n",
    "}\n",
    "\"\"\"\n",
    "HTML('<style>{}</style>'.format(CSS))\n",
    "pd.set_option('display.max_columns', None)"
   ]
  },
  {
   "cell_type": "markdown",
   "metadata": {},
   "source": [
    "---\n",
    "\n",
    "## Mapping categories to DF1 and removing outliers below"
   ]
  },
  {
   "cell_type": "code",
   "execution_count": 31,
   "metadata": {},
   "outputs": [],
   "source": [
    "df1 = pd.read_csv('./data/0826export_column_filter_1.csv')\n",
    "df1.columns = df1.columns.str.lower()\n",
    "\n",
    "df2 = pd.read_excel('./documentation/store_master.xlsx')\n",
    "df2.columns = df2.columns.str.lower()\n",
    "\n",
    "categories_to_map = ['class', \n",
    "                     'store_city', \n",
    "                     'store_state', \n",
    "                     'close_date', \n",
    "                     'gross_feet'] # must be df2's LOWERED column names\n",
    "\n",
    "def map_my_dataframe(df1, df2, a_list):\n",
    "    \"\"\"Returns DataFrame(df1)\n",
    "    maps str items in a_list, from df2 onto df1.\n",
    "    the joint variable for mapping is the store number.\n",
    "    \n",
    "    !! df1 and df2 column names must be lower-case !!\n",
    "    \"\"\"\n",
    "    joint_var = 'store'\n",
    "    for category in a_list:\n",
    "        df_2_dict = dict(zip(df2[joint_var], df2[category]))\n",
    "        df1[category] = df1[joint_var].map(df_2_dict)\n",
    "    return df1\n",
    "    \n",
    "df = map_my_dataframe(df1, df2, categories_to_map)\n",
    "df = df[df.store != 2084]\n",
    "\n",
    "closed = df[df.close_date.notna()]"
   ]
  },
  {
   "cell_type": "markdown",
   "metadata": {},
   "source": [
    "---\n",
    "\n",
    "### Remove outlier store(2084), make DF for closed stores."
   ]
  },
  {
   "cell_type": "markdown",
   "metadata": {},
   "source": [
    "---\n",
    "\n",
    "## Compare all variables by top/bot `COMP_PCT` by `STORE`:\n",
    "\n",
    "Grouping DataFrames's by `'store'`, `'mean()'` of:\n",
    " - `df1`: full original data frame\n",
    " - `top_avg`: top by `comp_pct`\n",
    " - `bot_avg`: bottom by `comp_pct`\n",
    " - `closed_avg`: by closed store"
   ]
  },
  {
   "cell_type": "code",
   "execution_count": 32,
   "metadata": {},
   "outputs": [
    {
     "data": {
      "text/html": [
       "<div>\n",
       "<style scoped>\n",
       "    .dataframe tbody tr th:only-of-type {\n",
       "        vertical-align: middle;\n",
       "    }\n",
       "\n",
       "    .dataframe tbody tr th {\n",
       "        vertical-align: top;\n",
       "    }\n",
       "\n",
       "    .dataframe thead th {\n",
       "        text-align: right;\n",
       "    }\n",
       "</style>\n",
       "<table border=\"1\" class=\"dataframe\">\n",
       "  <thead>\n",
       "    <tr style=\"text-align: right;\">\n",
       "      <th></th>\n",
       "      <th>abs_%_diff</th>\n",
       "    </tr>\n",
       "  </thead>\n",
       "  <tbody>\n",
       "    <tr>\n",
       "      <th>avg_ft_tenure_days</th>\n",
       "      <td>107.119953</td>\n",
       "    </tr>\n",
       "    <tr>\n",
       "      <th>special_order_amt</th>\n",
       "      <td>35.028947</td>\n",
       "    </tr>\n",
       "    <tr>\n",
       "      <th>avg_pt_tenure_days</th>\n",
       "      <td>32.765124</td>\n",
       "    </tr>\n",
       "    <tr>\n",
       "      <th>trans_cnt_returns</th>\n",
       "      <td>28.547131</td>\n",
       "    </tr>\n",
       "    <tr>\n",
       "      <th>accessory_value</th>\n",
       "      <td>27.532917</td>\n",
       "    </tr>\n",
       "    <tr>\n",
       "      <th>avg_mgr_tenure_days</th>\n",
       "      <td>25.391116</td>\n",
       "    </tr>\n",
       "    <tr>\n",
       "      <th>sales_value</th>\n",
       "      <td>21.943832</td>\n",
       "    </tr>\n",
       "    <tr>\n",
       "      <th>strak_sales_amt</th>\n",
       "      <td>21.930740</td>\n",
       "    </tr>\n",
       "    <tr>\n",
       "      <th>mark_down_amt_ty</th>\n",
       "      <td>21.545275</td>\n",
       "    </tr>\n",
       "  </tbody>\n",
       "</table>\n",
       "</div>"
      ],
      "text/plain": [
       "                     abs_%_diff\n",
       "avg_ft_tenure_days   107.119953\n",
       "special_order_amt     35.028947\n",
       "avg_pt_tenure_days    32.765124\n",
       "trans_cnt_returns     28.547131\n",
       "accessory_value       27.532917\n",
       "avg_mgr_tenure_days   25.391116\n",
       "sales_value           21.943832\n",
       "strak_sales_amt       21.930740\n",
       "mark_down_amt_ty      21.545275"
      ]
     },
     "execution_count": 32,
     "metadata": {},
     "output_type": "execute_result"
    },
    {
     "data": {
      "text/html": [
       "<div>\n",
       "<style scoped>\n",
       "    .dataframe tbody tr th:only-of-type {\n",
       "        vertical-align: middle;\n",
       "    }\n",
       "\n",
       "    .dataframe tbody tr th {\n",
       "        vertical-align: top;\n",
       "    }\n",
       "\n",
       "    .dataframe thead th {\n",
       "        text-align: right;\n",
       "    }\n",
       "</style>\n",
       "<table border=\"1\" class=\"dataframe\">\n",
       "  <thead>\n",
       "    <tr style=\"text-align: right;\">\n",
       "      <th></th>\n",
       "      <th>abs_%_diff</th>\n",
       "    </tr>\n",
       "  </thead>\n",
       "  <tbody>\n",
       "    <tr>\n",
       "      <th>mark_down_amt_ty</th>\n",
       "      <td>59.988142</td>\n",
       "    </tr>\n",
       "    <tr>\n",
       "      <th>avg_mgr_tenure_days</th>\n",
       "      <td>49.948303</td>\n",
       "    </tr>\n",
       "    <tr>\n",
       "      <th>special_order_amt</th>\n",
       "      <td>40.877791</td>\n",
       "    </tr>\n",
       "    <tr>\n",
       "      <th>avg_ft_tenure_days</th>\n",
       "      <td>40.092304</td>\n",
       "    </tr>\n",
       "    <tr>\n",
       "      <th>accessory_value</th>\n",
       "      <td>39.324966</td>\n",
       "    </tr>\n",
       "    <tr>\n",
       "      <th>shoes_units</th>\n",
       "      <td>36.247024</td>\n",
       "    </tr>\n",
       "    <tr>\n",
       "      <th>trans_cnt_returns</th>\n",
       "      <td>33.627098</td>\n",
       "    </tr>\n",
       "    <tr>\n",
       "      <th>strak_traffic</th>\n",
       "      <td>32.747220</td>\n",
       "    </tr>\n",
       "    <tr>\n",
       "      <th>sales_value</th>\n",
       "      <td>30.338543</td>\n",
       "    </tr>\n",
       "  </tbody>\n",
       "</table>\n",
       "</div>"
      ],
      "text/plain": [
       "                     abs_%_diff\n",
       "mark_down_amt_ty      59.988142\n",
       "avg_mgr_tenure_days   49.948303\n",
       "special_order_amt     40.877791\n",
       "avg_ft_tenure_days    40.092304\n",
       "accessory_value       39.324966\n",
       "shoes_units           36.247024\n",
       "trans_cnt_returns     33.627098\n",
       "strak_traffic         32.747220\n",
       "sales_value           30.338543"
      ]
     },
     "execution_count": 32,
     "metadata": {},
     "output_type": "execute_result"
    }
   ],
   "source": [
    "all_avg_by_store = df.groupby(['store']).mean().mean().round(4)\n",
    "top_avg_by_store = df.groupby(['store']).mean().nlargest(20, 'comp_pct').mean().round(4)\n",
    "bot_avg_by_store = df.groupby(['store']).mean().nsmallest(20, 'comp_pct').mean().round(4)\n",
    "closed_avg_by_store = closed.groupby(['store']).mean().mean().round(4)\n",
    "\n",
    "# Concatenating\n",
    "for_compare_by_store = pd.concat([\n",
    "#     all_avg_by_store.rename('all_means').to_frame(),\n",
    "    top_avg_by_store.rename('top_store_avgs').to_frame(),\n",
    "    bot_avg_by_store.rename('bot_store_avgs').to_frame(),\n",
    "    closed_avg_by_store.rename('closed_store_avgs').to_frame()\n",
    "], axis=1).iloc[3:, :]\n",
    "\n",
    "# for_compare_by_store\n",
    "\n",
    "store_top_bot_diff = abs(abs(top_avg_by_store - bot_avg_by_store) / ((top_avg_by_store + bot_avg_by_store) * 0.5) * 100).to_frame('abs_%_diff').nlargest(11, 'abs_%_diff').iloc[2:, :]\n",
    "store_top_bot_diff\n",
    "\n",
    "store_top_closed_diff = abs(abs(top_avg_by_store - closed_avg_by_store) / ((top_avg_by_store + closed_avg_by_store) * 0.5) * 100).to_frame('abs_%_diff').nlargest(11, 'abs_%_diff').iloc[2:, :]\n",
    "store_top_closed_diff"
   ]
  },
  {
   "cell_type": "markdown",
   "metadata": {},
   "source": [
    "---\n",
    "## Filter `CLASS`, Compare by top/bot `COMP_PCT` by [`STORE`, `FISCAL_YEAR`] -->  `FISCAL_MONTH`:\n",
    "\n",
    "### Commented out classes do not have enough stores to do top and bot 10 store difference checks"
   ]
  },
  {
   "cell_type": "code",
   "execution_count": 10,
   "metadata": {},
   "outputs": [],
   "source": [
    "classes = df['class'].unique()\n",
    "\n",
    "mall_top = df[df['class'] == classes[0]].groupby(['store','fiscal_year','fiscal_month']).mean().nlargest(10, 'comp_pct').iloc[:, 2:].mean().rename('mall_top').to_frame()\n",
    "mall_bot = df[df['class'] == classes[0]].groupby(['store','fiscal_year','fiscal_month']).mean().nsmallest(10, 'comp_pct').iloc[:, 2:].mean().rename('mall_bot').to_frame()\n",
    "\n",
    "# open_air_top = df[df['class'] == classes[1]].groupby(['store','fiscal_year','fiscal_month']).mean().nlargest(10, 'comp_pct').iloc[:, 2:].mean().rename('open_air_top').to_frame()\n",
    "# open_air_bot = df[df['class'] == classes[1]].groupby(['store','fiscal_year','fiscal_month']).mean().nsmallest(10, 'comp_pct').iloc[:, 2:].mean().rename('open_air_bot').to_frame()\n",
    "\n",
    "# downtown_top = df[df['class'] == classes[2]].groupby(['store','fiscal_year','fiscal_month']).mean().nlargest(10, 'comp_pct').iloc[:, 2:].mean().rename('downtown_top').to_frame()\n",
    "# downtown_bot = df[df['class'] == classes[2]].groupby(['store','fiscal_year','fiscal_month']).mean().nsmallest(10, 'comp_pct').iloc[:, 2:].mean().rename('downtown_bot').to_frame()\n",
    "\n",
    "# street_top = df[df['class'] == classes[3]].groupby(['store','fiscal_year','fiscal_month']).mean().nlargest(10, 'comp_pct').iloc[:, 2:].mean().rename('street_top').to_frame()\n",
    "# street_bot = df[df['class'] == classes[3]].groupby(['store','fiscal_year','fiscal_month']).mean().nsmallest(10, 'comp_pct').iloc[:, 2:].mean().rename('street_bot').to_frame()\n",
    "\n",
    "airport_top = df[df['class'] == classes[4]].groupby(['store','fiscal_year','fiscal_month']).mean().nlargest(10, 'comp_pct').iloc[:, 2:].mean().rename('airport_top').to_frame()\n",
    "airport_bot = df[df['class'] == classes[4]].groupby(['store','fiscal_year','fiscal_month']).mean().nsmallest(10, 'comp_pct').iloc[:, 2:].mean().rename('airport_bot').to_frame()\n",
    "\n",
    "# lifestyle_top = df1[df1['class'] == classes[5]].groupby(['store']).mean().nlargest(10, 'comp_pct').iloc[:, 2:].mean().rename('lifestyle_top').to_frame()\n",
    "# lifestyle_bot = df1[df1['class'] == classes[5]].groupby(['store']).mean().nsmallest(10, 'comp_pct').iloc[:, 2:].mean().rename('lifestyle_bot').to_frame()\n",
    "\n",
    "outlet_top = df[df['class'] == classes[6]].groupby(['store','fiscal_year','fiscal_month']).mean().nlargest(10, 'comp_pct').iloc[:, 2:].mean().rename('outlet_top').to_frame()\n",
    "outlet_bot = df[df['class'] == classes[6]].groupby(['store','fiscal_year','fiscal_month']).mean().nsmallest(10, 'comp_pct').iloc[:, 2:].mean().rename('outlet_bot').to_frame()\n",
    "\n",
    "# for_compare_by_class = pd.concat([mall_top, mall_bot, airport_top, airport_bot, outlet_top, outlet_bot], axis=1)\n",
    "# for_compare_by_class"
   ]
  },
  {
   "cell_type": "code",
   "execution_count": 11,
   "metadata": {},
   "outputs": [
    {
     "data": {
      "text/html": [
       "<div>\n",
       "<style scoped>\n",
       "    .dataframe tbody tr th:only-of-type {\n",
       "        vertical-align: middle;\n",
       "    }\n",
       "\n",
       "    .dataframe tbody tr th {\n",
       "        vertical-align: top;\n",
       "    }\n",
       "\n",
       "    .dataframe thead th {\n",
       "        text-align: right;\n",
       "    }\n",
       "</style>\n",
       "<table border=\"1\" class=\"dataframe\">\n",
       "  <thead>\n",
       "    <tr style=\"text-align: right;\">\n",
       "      <th></th>\n",
       "      <th>abs_%_diff</th>\n",
       "    </tr>\n",
       "  </thead>\n",
       "  <tbody>\n",
       "    <tr>\n",
       "      <th>avg_ft_tenure_days</th>\n",
       "      <td>44.233755</td>\n",
       "    </tr>\n",
       "    <tr>\n",
       "      <th>mark_down_amt_ty</th>\n",
       "      <td>27.312015</td>\n",
       "    </tr>\n",
       "    <tr>\n",
       "      <th>multi_value</th>\n",
       "      <td>26.103601</td>\n",
       "    </tr>\n",
       "    <tr>\n",
       "      <th>special_order_amt</th>\n",
       "      <td>24.926410</td>\n",
       "    </tr>\n",
       "    <tr>\n",
       "      <th>shoes_units</th>\n",
       "      <td>22.870279</td>\n",
       "    </tr>\n",
       "    <tr>\n",
       "      <th>shoes_value</th>\n",
       "      <td>21.075789</td>\n",
       "    </tr>\n",
       "    <tr>\n",
       "      <th>sales_value</th>\n",
       "      <td>19.880310</td>\n",
       "    </tr>\n",
       "    <tr>\n",
       "      <th>strak_sales_amt</th>\n",
       "      <td>19.824894</td>\n",
       "    </tr>\n",
       "    <tr>\n",
       "      <th>trans_cnt_returns</th>\n",
       "      <td>18.441151</td>\n",
       "    </tr>\n",
       "  </tbody>\n",
       "</table>\n",
       "</div>"
      ],
      "text/plain": [
       "                    abs_%_diff\n",
       "avg_ft_tenure_days   44.233755\n",
       "mark_down_amt_ty     27.312015\n",
       "multi_value          26.103601\n",
       "special_order_amt    24.926410\n",
       "shoes_units          22.870279\n",
       "shoes_value          21.075789\n",
       "sales_value          19.880310\n",
       "strak_sales_amt      19.824894\n",
       "trans_cnt_returns    18.441151"
      ]
     },
     "execution_count": 11,
     "metadata": {},
     "output_type": "execute_result"
    }
   ],
   "source": [
    "outlet_top = df[df['class'] == classes[6]].groupby(['store','fiscal_year','fiscal_month']).mean().iloc[:, 1:].nlargest(500, 'comp_pct').mean()\n",
    "outlet_bot = df[df['class'] == classes[6]].groupby(['store','fiscal_year','fiscal_month']).mean().iloc[:, 1:].nsmallest(500, 'comp_pct').mean()\n",
    "\n",
    "\n",
    "outlet_class_diff = abs(abs(outlet_top - outlet_bot) / ((outlet_top + outlet_bot) * 0.5) * 100).to_frame('abs_%_diff').nlargest(11, 'abs_%_diff').iloc[2:, :]\n",
    "outlet_class_diff"
   ]
  },
  {
   "cell_type": "markdown",
   "metadata": {},
   "source": [
    "---\n",
    "\n",
    "## MALL STORES:\n",
    " - #### Absolute percentage(%) differences between averages of top and bot mall stores' variables:"
   ]
  },
  {
   "cell_type": "code",
   "execution_count": 13,
   "metadata": {},
   "outputs": [
    {
     "data": {
      "text/html": [
       "<div>\n",
       "<style scoped>\n",
       "    .dataframe tbody tr th:only-of-type {\n",
       "        vertical-align: middle;\n",
       "    }\n",
       "\n",
       "    .dataframe tbody tr th {\n",
       "        vertical-align: top;\n",
       "    }\n",
       "\n",
       "    .dataframe thead th {\n",
       "        text-align: right;\n",
       "    }\n",
       "</style>\n",
       "<table border=\"1\" class=\"dataframe\">\n",
       "  <thead>\n",
       "    <tr style=\"text-align: right;\">\n",
       "      <th></th>\n",
       "      <th>abs_%_diff</th>\n",
       "    </tr>\n",
       "  </thead>\n",
       "  <tbody>\n",
       "    <tr>\n",
       "      <th>avg_ft_tenure_days</th>\n",
       "      <td>192.907804</td>\n",
       "    </tr>\n",
       "    <tr>\n",
       "      <th>avg_mgr_tenure_days</th>\n",
       "      <td>106.689854</td>\n",
       "    </tr>\n",
       "    <tr>\n",
       "      <th>tot_avg_tenure_days</th>\n",
       "      <td>97.083647</td>\n",
       "    </tr>\n",
       "    <tr>\n",
       "      <th>multi_value</th>\n",
       "      <td>87.526161</td>\n",
       "    </tr>\n",
       "    <tr>\n",
       "      <th>special_order_amt</th>\n",
       "      <td>85.208952</td>\n",
       "    </tr>\n",
       "    <tr>\n",
       "      <th>accessory_value</th>\n",
       "      <td>82.673195</td>\n",
       "    </tr>\n",
       "    <tr>\n",
       "      <th>avg_am_tenure_days</th>\n",
       "      <td>80.134112</td>\n",
       "    </tr>\n",
       "    <tr>\n",
       "      <th>sales_value</th>\n",
       "      <td>79.718575</td>\n",
       "    </tr>\n",
       "    <tr>\n",
       "      <th>strak_sales_amt</th>\n",
       "      <td>79.697524</td>\n",
       "    </tr>\n",
       "    <tr>\n",
       "      <th>shoes_value</th>\n",
       "      <td>78.320425</td>\n",
       "    </tr>\n",
       "  </tbody>\n",
       "</table>\n",
       "</div>"
      ],
      "text/plain": [
       "                     abs_%_diff\n",
       "avg_ft_tenure_days   192.907804\n",
       "avg_mgr_tenure_days  106.689854\n",
       "tot_avg_tenure_days   97.083647\n",
       "multi_value           87.526161\n",
       "special_order_amt     85.208952\n",
       "accessory_value       82.673195\n",
       "avg_am_tenure_days    80.134112\n",
       "sales_value           79.718575\n",
       "strak_sales_amt       79.697524\n",
       "shoes_value           78.320425"
      ]
     },
     "execution_count": 13,
     "metadata": {},
     "output_type": "execute_result"
    }
   ],
   "source": [
    "top = mall_top.iloc[1:,0]\n",
    "bot = mall_bot.iloc[1:,0]\n",
    "diff_mall = abs(abs(bot - top) / ((bot + top) * 0.5) * 100).to_frame('abs_%_diff').nlargest(11, 'abs_%_diff').iloc[1:, :]\n",
    "diff_mall"
   ]
  },
  {
   "cell_type": "markdown",
   "metadata": {},
   "source": [
    "---\n",
    "\n",
    "## AIRPORT STORES:\n",
    " - #### Absolute percentage(%) differences between averages of top and bot airport stores' variables:"
   ]
  },
  {
   "cell_type": "code",
   "execution_count": 14,
   "metadata": {},
   "outputs": [
    {
     "data": {
      "text/html": [
       "<div>\n",
       "<style scoped>\n",
       "    .dataframe tbody tr th:only-of-type {\n",
       "        vertical-align: middle;\n",
       "    }\n",
       "\n",
       "    .dataframe tbody tr th {\n",
       "        vertical-align: top;\n",
       "    }\n",
       "\n",
       "    .dataframe thead th {\n",
       "        text-align: right;\n",
       "    }\n",
       "</style>\n",
       "<table border=\"1\" class=\"dataframe\">\n",
       "  <thead>\n",
       "    <tr style=\"text-align: right;\">\n",
       "      <th></th>\n",
       "      <th>abs_%_diff</th>\n",
       "    </tr>\n",
       "  </thead>\n",
       "  <tbody>\n",
       "    <tr>\n",
       "      <th>trans_cnt_returns</th>\n",
       "      <td>156.667267</td>\n",
       "    </tr>\n",
       "    <tr>\n",
       "      <th>avg_am_tenure_days</th>\n",
       "      <td>107.856523</td>\n",
       "    </tr>\n",
       "    <tr>\n",
       "      <th>avg_mgr_tenure_days</th>\n",
       "      <td>77.739120</td>\n",
       "    </tr>\n",
       "    <tr>\n",
       "      <th>special_order_amt</th>\n",
       "      <td>67.838253</td>\n",
       "    </tr>\n",
       "    <tr>\n",
       "      <th>accessory_value</th>\n",
       "      <td>48.047115</td>\n",
       "    </tr>\n",
       "    <tr>\n",
       "      <th>strak_sales_amt</th>\n",
       "      <td>45.792436</td>\n",
       "    </tr>\n",
       "    <tr>\n",
       "      <th>sales_value</th>\n",
       "      <td>45.792436</td>\n",
       "    </tr>\n",
       "    <tr>\n",
       "      <th>tot_avg_tenure_days</th>\n",
       "      <td>43.626508</td>\n",
       "    </tr>\n",
       "    <tr>\n",
       "      <th>shoes_value</th>\n",
       "      <td>42.738523</td>\n",
       "    </tr>\n",
       "    <tr>\n",
       "      <th>sales_amt_per_pay_hour</th>\n",
       "      <td>40.476441</td>\n",
       "    </tr>\n",
       "  </tbody>\n",
       "</table>\n",
       "</div>"
      ],
      "text/plain": [
       "                        abs_%_diff\n",
       "trans_cnt_returns       156.667267\n",
       "avg_am_tenure_days      107.856523\n",
       "avg_mgr_tenure_days      77.739120\n",
       "special_order_amt        67.838253\n",
       "accessory_value          48.047115\n",
       "strak_sales_amt          45.792436\n",
       "sales_value              45.792436\n",
       "tot_avg_tenure_days      43.626508\n",
       "shoes_value              42.738523\n",
       "sales_amt_per_pay_hour   40.476441"
      ]
     },
     "execution_count": 14,
     "metadata": {},
     "output_type": "execute_result"
    }
   ],
   "source": [
    "top = airport_top.iloc[1:,0]\n",
    "bot = airport_bot.iloc[1:,0]\n",
    "diff_airport = abs(abs(bot-top) / ((bot + top) * 0.5) * 100).to_frame('abs_%_diff').nlargest(11, 'abs_%_diff').iloc[1:, :]\n",
    "diff_airport"
   ]
  },
  {
   "cell_type": "markdown",
   "metadata": {},
   "source": [
    "---\n",
    "\n",
    "## OUTLET STORES: \n",
    " - #### Absolute percentage(%) differences between averages of top and bot outlet stores' variables:"
   ]
  },
  {
   "cell_type": "code",
   "execution_count": 15,
   "metadata": {},
   "outputs": [
    {
     "data": {
      "text/html": [
       "<div>\n",
       "<style scoped>\n",
       "    .dataframe tbody tr th:only-of-type {\n",
       "        vertical-align: middle;\n",
       "    }\n",
       "\n",
       "    .dataframe tbody tr th {\n",
       "        vertical-align: top;\n",
       "    }\n",
       "\n",
       "    .dataframe thead th {\n",
       "        text-align: right;\n",
       "    }\n",
       "</style>\n",
       "<table border=\"1\" class=\"dataframe\">\n",
       "  <thead>\n",
       "    <tr style=\"text-align: right;\">\n",
       "      <th></th>\n",
       "      <th>abs_%_diff</th>\n",
       "    </tr>\n",
       "  </thead>\n",
       "  <tbody>\n",
       "    <tr>\n",
       "      <th>avg_ft_tenure_days</th>\n",
       "      <td>44.233755</td>\n",
       "    </tr>\n",
       "    <tr>\n",
       "      <th>mark_down_amt_ty</th>\n",
       "      <td>27.312015</td>\n",
       "    </tr>\n",
       "    <tr>\n",
       "      <th>multi_value</th>\n",
       "      <td>26.103601</td>\n",
       "    </tr>\n",
       "    <tr>\n",
       "      <th>special_order_amt</th>\n",
       "      <td>24.926410</td>\n",
       "    </tr>\n",
       "    <tr>\n",
       "      <th>shoes_units</th>\n",
       "      <td>22.870279</td>\n",
       "    </tr>\n",
       "    <tr>\n",
       "      <th>shoes_value</th>\n",
       "      <td>21.075789</td>\n",
       "    </tr>\n",
       "    <tr>\n",
       "      <th>sales_value</th>\n",
       "      <td>19.880310</td>\n",
       "    </tr>\n",
       "    <tr>\n",
       "      <th>strak_sales_amt</th>\n",
       "      <td>19.824894</td>\n",
       "    </tr>\n",
       "  </tbody>\n",
       "</table>\n",
       "</div>"
      ],
      "text/plain": [
       "                    abs_%_diff\n",
       "avg_ft_tenure_days   44.233755\n",
       "mark_down_amt_ty     27.312015\n",
       "multi_value          26.103601\n",
       "special_order_amt    24.926410\n",
       "shoes_units          22.870279\n",
       "shoes_value          21.075789\n",
       "sales_value          19.880310\n",
       "strak_sales_amt      19.824894"
      ]
     },
     "execution_count": 15,
     "metadata": {},
     "output_type": "execute_result"
    }
   ],
   "source": [
    "top = outlet_top#.iloc[1:,0]\n",
    "bot = outlet_bot#.iloc[1:,0]\n",
    "\n",
    "# outlet store differences\n",
    "diff_outlet = abs(abs(top-bot) / ((top + bot) * 0.5) * 100).to_frame('abs_%_diff').nlargest(10, 'abs_%_diff').nlargest(11, 'abs_%_diff').iloc[2:, :]\n",
    "diff_outlet"
   ]
  },
  {
   "cell_type": "markdown",
   "metadata": {},
   "source": [
    "---\n",
    "\n",
    "## Compare top/bot `COMP_PCT` by [`STORE`, `FISCAL_YEAR`] --> `FISCAL_MONTH`: \n",
    " - #### Absolute percentage(%) differences between averages of top and bot fiscal months':"
   ]
  },
  {
   "cell_type": "code",
   "execution_count": 27,
   "metadata": {},
   "outputs": [
    {
     "data": {
      "text/plain": [
       "special_order_amt         34.738222\n",
       "accessory_value           32.049302\n",
       "multi_value               31.437389\n",
       "mark_down_amt_ty          28.710249\n",
       "sales_value               27.646837\n",
       "strak_sales_amt           27.642270\n",
       "shoes_value               25.102516\n",
       "shoes_units               24.308150\n",
       "sales_amt_per_pay_hour    22.247581\n",
       "dtype: float64"
      ]
     },
     "execution_count": 27,
     "metadata": {},
     "output_type": "execute_result"
    }
   ],
   "source": [
    "grouped_store_year_month = df.groupby(['store', 'fiscal_year', 'fiscal_month']).mean().iloc[:, 1:]\n",
    "\n",
    "top_store_month = grouped_store_year_month.nlargest(1000, 'comp_pct').mean()\n",
    "bot_store_month = grouped_store_year_month.nsmallest(1000, 'comp_pct').mean()\n",
    "\n",
    "diff_store_month = abs(abs(top_store_month - bot_store_month) / ((top_store_month + bot_store_month) * 0.5) * 100).nlargest(11).iloc[2:]\n",
    "\n",
    "diff_store_month"
   ]
  },
  {
   "cell_type": "code",
   "execution_count": 23,
   "metadata": {},
   "outputs": [
    {
     "data": {
      "text/html": [
       "<div>\n",
       "<style scoped>\n",
       "    .dataframe tbody tr th:only-of-type {\n",
       "        vertical-align: middle;\n",
       "    }\n",
       "\n",
       "    .dataframe tbody tr th {\n",
       "        vertical-align: top;\n",
       "    }\n",
       "\n",
       "    .dataframe thead th {\n",
       "        text-align: right;\n",
       "    }\n",
       "</style>\n",
       "<table border=\"1\" class=\"dataframe\">\n",
       "  <thead>\n",
       "    <tr style=\"text-align: right;\">\n",
       "      <th></th>\n",
       "      <th>abs_%_diff</th>\n",
       "    </tr>\n",
       "  </thead>\n",
       "  <tbody>\n",
       "    <tr>\n",
       "      <th>multi_value</th>\n",
       "      <td>47.470353</td>\n",
       "    </tr>\n",
       "    <tr>\n",
       "      <th>accessory_value</th>\n",
       "      <td>44.360378</td>\n",
       "    </tr>\n",
       "    <tr>\n",
       "      <th>mark_down_amt_ty</th>\n",
       "      <td>42.662123</td>\n",
       "    </tr>\n",
       "    <tr>\n",
       "      <th>special_order_amt</th>\n",
       "      <td>41.934309</td>\n",
       "    </tr>\n",
       "    <tr>\n",
       "      <th>sales_value</th>\n",
       "      <td>39.812276</td>\n",
       "    </tr>\n",
       "    <tr>\n",
       "      <th>strak_sales_amt</th>\n",
       "      <td>39.768256</td>\n",
       "    </tr>\n",
       "    <tr>\n",
       "      <th>shoes_value</th>\n",
       "      <td>37.187229</td>\n",
       "    </tr>\n",
       "    <tr>\n",
       "      <th>shoes_units</th>\n",
       "      <td>36.942599</td>\n",
       "    </tr>\n",
       "    <tr>\n",
       "      <th>sales_amt_per_pay_hour</th>\n",
       "      <td>34.897909</td>\n",
       "    </tr>\n",
       "  </tbody>\n",
       "</table>\n",
       "</div>"
      ],
      "text/plain": [
       "                        abs_%_diff\n",
       "multi_value              47.470353\n",
       "accessory_value          44.360378\n",
       "mark_down_amt_ty         42.662123\n",
       "special_order_amt        41.934309\n",
       "sales_value              39.812276\n",
       "strak_sales_amt          39.768256\n",
       "shoes_value              37.187229\n",
       "shoes_units              36.942599\n",
       "sales_amt_per_pay_hour   34.897909"
      ]
     },
     "execution_count": 23,
     "metadata": {},
     "output_type": "execute_result"
    }
   ],
   "source": [
    "by_store_year = df.groupby([\n",
    "    'store', \n",
    "    'fiscal_year', \n",
    "    'fiscal_month',\n",
    "    'fiscal_week'\n",
    "]).mean()#.iloc[:, 2:]\n",
    "\n",
    "# store_top['comp_pct_year'] = \n",
    "\n",
    "# store_top#.nlargest(5, 'comp_pct')\n",
    "\n",
    "store_top = by_store_year.nlargest(5000, 'comp_pct').mean()\n",
    "store_bot = by_store_year.nsmallest(5000, 'comp_pct').mean()\n",
    "\n",
    "diff_store = abs(abs(store_top - store_bot) / ((store_top + store_bot) * 0.5) * 100).to_frame('abs_%_diff').nlargest(11, 'abs_%_diff').iloc[2:, :]\n",
    "diff_store"
   ]
  },
  {
   "cell_type": "code",
   "execution_count": 22,
   "metadata": {},
   "outputs": [
    {
     "data": {
      "text/plain": [
       "27042"
      ]
     },
     "execution_count": 22,
     "metadata": {},
     "output_type": "execute_result"
    }
   ],
   "source": [
    "len(by_store_year)"
   ]
  },
  {
   "cell_type": "markdown",
   "metadata": {},
   "source": [
    "---\n",
    "\n",
    "## Compare top/bot `COMP_PCT` by [`STORE`, `FISCAL_YEAR`, `FISCAL_MONTH`] --> `FISCAL_WEEK`: \n",
    " - #### Absolute percentage(%) differences between averages of top and bot fiscal weeks' variables:"
   ]
  },
  {
   "cell_type": "code",
   "execution_count": 24,
   "metadata": {},
   "outputs": [
    {
     "data": {
      "text/plain": [
       "27042"
      ]
     },
     "execution_count": 24,
     "metadata": {},
     "output_type": "execute_result"
    },
    {
     "data": {
      "text/plain": [
       "multi_value               47.470353\n",
       "accessory_value           44.360378\n",
       "mark_down_amt_ty          42.662123\n",
       "special_order_amt         41.934309\n",
       "sales_value               39.812276\n",
       "strak_sales_amt           39.768256\n",
       "shoes_value               37.187229\n",
       "shoes_units               36.942599\n",
       "sales_amt_per_pay_hour    34.897909\n",
       "payroll_pct               22.814043\n",
       "dtype: float64"
      ]
     },
     "execution_count": 24,
     "metadata": {},
     "output_type": "execute_result"
    }
   ],
   "source": [
    "grouped_store_year_month_week = df.groupby(['store', 'fiscal_year', 'fiscal_month', 'fiscal_week']).mean().iloc[:, :]\n",
    "\n",
    "# len(grouped_store_year_month_week)\n",
    "\n",
    "wk_top = grouped_store_year_month_week.nlargest(5000, 'comp_pct').mean()\n",
    "wk_bot = grouped_store_year_month_week.nsmallest(5000, 'comp_pct').mean()\n",
    "diff_week = abs(abs(wk_top - wk_bot) / ((wk_top + wk_bot) * 0.5) * 100).nlargest(12).iloc[2:]\n",
    "\n",
    "diff_week"
   ]
  },
  {
   "cell_type": "code",
   "execution_count": null,
   "metadata": {},
   "outputs": [],
   "source": []
  }
 ],
 "metadata": {
  "kernelspec": {
   "display_name": "Python 3",
   "language": "python",
   "name": "python3"
  },
  "language_info": {
   "codemirror_mode": {
    "name": "ipython",
    "version": 3
   },
   "file_extension": ".py",
   "mimetype": "text/x-python",
   "name": "python",
   "nbconvert_exporter": "python",
   "pygments_lexer": "ipython3",
   "version": "3.7.4"
  }
 },
 "nbformat": 4,
 "nbformat_minor": 2
}
